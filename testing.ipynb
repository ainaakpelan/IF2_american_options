{
 "cells": [
  {
   "cell_type": "code",
   "execution_count": 1,
   "id": "72a63295",
   "metadata": {},
   "outputs": [],
   "source": [
    "import numpy as np\n",
    "from library.models.stochastic_mesh import simulate_gbm_paths, likelihood_weights, mesh_estimator, path_estimator, price_option\n",
    "from library.models.longstaff_schwartz import simulate_paths_gbm"
   ]
  },
  {
   "cell_type": "markdown",
   "id": "fefaa03a",
   "metadata": {},
   "source": [
    "Simulation from SMM"
   ]
  },
  {
   "cell_type": "code",
   "execution_count": 2,
   "id": "4fe3368e",
   "metadata": {},
   "outputs": [],
   "source": [
    "def ratio_opt(asset_mesh):\n",
    "    strike = 1.1\n",
    "    S_1 = asset_mesh[0, :, :]\n",
    "    S_2 = asset_mesh[1, :, :]\n",
    "    return np.maximum(0, S_2 / S_1 - strike)\n",
    "\n",
    "spot_prices = [10, 12]\n",
    "drifts = [0.05, 0.07]\n",
    "vols = [0.2, 0.25]\n",
    "dividends = [0.0, 0.0]\n",
    "rf_rate = 0.05\n",
    "maturity = 1\n",
    "n_time_pts = 4\n",
    "n_paths_mesh = 5\n",
    "maturity = 1\n",
    "path_estim_paths = 10"
   ]
  },
  {
   "cell_type": "code",
   "execution_count": 3,
   "id": "074bfc4e",
   "metadata": {},
   "outputs": [
    {
     "data": {
      "text/plain": [
       "array([[[10.        ,  9.9369354 , 10.68165214, 12.53256557,\n",
       "         12.33468441],\n",
       "        [10.        , 11.7989008 , 12.83595025, 12.33946187,\n",
       "         13.12551982],\n",
       "        [10.        ,  9.61680528,  9.92650393,  8.25963436,\n",
       "          7.00334952],\n",
       "        [10.        ,  9.10480213,  9.466192  ,  8.70958642,\n",
       "          7.61937189],\n",
       "        [10.        ,  9.85035468,  9.9917553 ,  8.73017543,\n",
       "          8.32986452]],\n",
       "\n",
       "       [[12.        , 10.49312156, 11.10471402, 10.4017844 ,\n",
       "         10.12698001],\n",
       "        [12.        , 15.27364697, 15.39633155, 13.6208663 ,\n",
       "         15.24281916],\n",
       "        [12.        , 12.43732583,  9.82992037,  8.40725545,\n",
       "          8.70058472],\n",
       "        [12.        , 12.37916955, 12.32027956, 11.98069001,\n",
       "         10.05598962],\n",
       "        [12.        , 11.43883681, 13.1818658 , 13.89434424,\n",
       "         11.25473972]]])"
      ]
     },
     "execution_count": 3,
     "metadata": {},
     "output_type": "execute_result"
    }
   ],
   "source": [
    "np.random.seed(42)\n",
    "asset_mesh = simulate_gbm_paths(spot_prices, drifts, vols, n_time_pts, n_paths_mesh, maturity)\n",
    "asset_mesh"
   ]
  },
  {
   "cell_type": "markdown",
   "id": "03774451",
   "metadata": {},
   "source": [
    "Simulation from LSM"
   ]
  },
  {
   "cell_type": "code",
   "execution_count": 4,
   "id": "a4707d0a",
   "metadata": {},
   "outputs": [],
   "source": [
    "corr = np.array([[1.0, 0.0], [0.0, 1.0]])"
   ]
  },
  {
   "cell_type": "code",
   "execution_count": 5,
   "id": "b7cbaedb",
   "metadata": {},
   "outputs": [
    {
     "data": {
      "text/plain": [
       "array([[[10.        , 10.58837296, 10.18498665, 11.88146492,\n",
       "         11.27185549],\n",
       "        [10.        , 10.74944308, 11.09561709, 11.2548933 ,\n",
       "         11.32432732],\n",
       "        [10.        ,  9.84210642,  8.34512864,  7.96247356,\n",
       "          8.71019511],\n",
       "        [10.        , 11.7989008 , 10.74266571,  9.64677734,\n",
       "          9.92453788],\n",
       "        [10.        ,  9.61320481,  8.84484892,  8.39193712,\n",
       "          7.40349935]],\n",
       "\n",
       "       [[12.        , 11.84980145, 11.23217461, 10.97091692,\n",
       "         13.89418113],\n",
       "        [12.        , 14.58469778, 11.53632037,  9.6996939 ,\n",
       "          8.53835155],\n",
       "        [12.        , 11.70863999, 10.96522157, 11.17055628,\n",
       "          9.63462573],\n",
       "        [12.        , 13.27023412, 13.86672253, 14.60175402,\n",
       "         11.48303116],\n",
       "        [12.        , 12.90241051, 10.86518556, 10.5253799 ,\n",
       "         10.83828343]]])"
      ]
     },
     "execution_count": 5,
     "metadata": {},
     "output_type": "execute_result"
    }
   ],
   "source": [
    "np.random.seed(42)\n",
    "asset_mesh_lsm = simulate_paths_gbm(spot_prices, rf_rate, vols, corr, maturity, n_time_pts, n_paths_mesh, seed=None, antithetic=False)\n",
    "asset_mesh_lsm"
   ]
  },
  {
   "cell_type": "code",
   "execution_count": 22,
   "id": "ca51d430",
   "metadata": {},
   "outputs": [
    {
     "data": {
      "text/plain": [
       "(np.float64(0.09527650844105016), np.float64(0.12491345031739653))"
      ]
     },
     "execution_count": 22,
     "metadata": {},
     "output_type": "execute_result"
    }
   ],
   "source": [
    "price_option(\n",
    "    asset_mesh_lsm, # asset_mesh(_lsm)\n",
    "    ratio_opt,\n",
    "    spot_prices,\n",
    "    drifts,\n",
    "    vols,\n",
    "    rf_rate,\n",
    "    dividends,\n",
    "    maturity,\n",
    "    maturity / n_time_pts,\n",
    "    path_estim_paths\n",
    ")"
   ]
  }
 ],
 "metadata": {
  "kernelspec": {
   "display_name": "Python 3",
   "language": "python",
   "name": "python3"
  },
  "language_info": {
   "codemirror_mode": {
    "name": "ipython",
    "version": 3
   },
   "file_extension": ".py",
   "mimetype": "text/x-python",
   "name": "python",
   "nbconvert_exporter": "python",
   "pygments_lexer": "ipython3",
   "version": "3.12.10"
  }
 },
 "nbformat": 4,
 "nbformat_minor": 5
}
