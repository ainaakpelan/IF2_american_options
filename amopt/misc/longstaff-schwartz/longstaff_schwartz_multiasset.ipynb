{
 "cells": [
  {
   "cell_type": "markdown",
   "id": "558a6029",
   "metadata": {},
   "source": [
    "# Longstaff–Schwartz Monte Carlo – American Options (multi‑asset)\n",
    "\n",
    "**Zawartość**\n",
    "1. Symulacja d‑wymiarowego GBM z korelacją.\n",
    "2. Ogólna procedura LS‑MC dla dowolnych pay‑offów.\n",
    "3. Payoffs (put, call, call z warunkiem binarnym).\n",
    "4. Przykłady wyceny."
   ]
  },
  {
   "cell_type": "code",
   "execution_count": 1,
   "id": "1f9d604a",
   "metadata": {},
   "outputs": [],
   "source": [
    "\n",
    "import numpy as np\n",
    "import math\n"
   ]
  },
  {
   "cell_type": "markdown",
   "id": "9906d5ec",
   "metadata": {},
   "source": [
    "## Symulacja ścieżek GBM"
   ]
  },
  {
   "cell_type": "code",
   "execution_count": 2,
   "id": "4447ef31",
   "metadata": {},
   "outputs": [],
   "source": [
    "\n",
    "def simulate_paths_gbm(S0, r, sigma, corr, T, M, N, seed=None):\n",
    "    \"\"\"Symuluje N ścieżek d-wymiarowego GBM (Geometric Brownian Motion).\"\"\"\n",
    "    S0, sigma, corr = map(np.asarray, (S0, sigma, corr))\n",
    "    d = len(S0)\n",
    "    if seed is not None:\n",
    "        np.random.seed(seed)\n",
    "\n",
    "    dt = T / M\n",
    "    drift = (r - 0.5 * sigma**2) * dt\n",
    "    vol = sigma * math.sqrt(dt)\n",
    "\n",
    "    L = np.linalg.cholesky(corr)\n",
    "\n",
    "    paths = np.empty((N, M + 1, d))\n",
    "    paths[:, 0, :] = S0\n",
    "\n",
    "    for t in range(1, M + 1):\n",
    "        Z = np.random.normal(size=(N, d)) @ L.T\n",
    "        paths[:, t, :] = paths[:, t-1, :] * np.exp(drift + vol * Z)\n",
    "\n",
    "    return paths\n"
   ]
  },
  {
   "cell_type": "markdown",
   "id": "82e385f9",
   "metadata": {},
   "source": [
    "## Baza wielomianów (regresja)"
   ]
  },
  {
   "cell_type": "code",
   "execution_count": null,
   "id": "7de6314c",
   "metadata": {},
   "outputs": [],
   "source": [
    "\n",
    "def _build_basis(S, degree=2):\n",
    "    \"\"\"Macierz projektująca: 1, S_i, S_i^2, ...\"\"\"\n",
    "    n, d = S.shape\n",
    "    cols = [np.ones(n)]\n",
    "    cols += [S[:, j] for j in range(d)]\n",
    "    if degree >= 2:\n",
    "        cols += [S[:, j]**2 for j in range(d)]\n",
    "    if degree >= 3:\n",
    "        cols += [S[:, j]**3 for j in range(d)]\n",
    "    return np.column_stack(cols)\n"
   ]
  },
  {
   "cell_type": "markdown",
   "id": "1d97e8fb",
   "metadata": {},
   "source": [
    "## Longstaff–Schwartz"
   ]
  },
  {
   "cell_type": "code",
   "execution_count": null,
   "id": "56ef4622",
   "metadata": {},
   "outputs": [],
   "source": [
    "\n",
    "def lsm_price_multi(S0, r, sigma, corr, T, M, N, payoff_fn, degree=2, seed=0):\n",
    "    \"\"\"Wycena American option metodą LS‑MC.\"\"\"\n",
    "    paths = simulate_paths_gbm(S0, r, sigma, corr, T, M, N, seed)\n",
    "    dt = T / M\n",
    "    disc = math.exp(-r * dt)\n",
    "    cashflows = payoff_fn(paths[:, -1, :])\n",
    "\n",
    "    for t in range(M - 1, 0, -1):\n",
    "        S_t = paths[:, t, :]\n",
    "        intrinsic = payoff_fn(S_t)\n",
    "        itm = intrinsic > 0\n",
    "        if np.any(itm):\n",
    "            X = _build_basis(S_t[itm], degree)\n",
    "            Y = cashflows[itm] * disc\n",
    "            coeff, *_ = np.linalg.lstsq(X, Y, rcond=None)\n",
    "            continuation = X @ coeff\n",
    "            exercise = intrinsic[itm] > continuation\n",
    "            cashflows[np.where(itm)[0][exercise]] = intrinsic[itm][exercise]\n",
    "        cashflows *= disc\n",
    "    return cashflows.mean() * disc\n"
   ]
  },
  {
   "cell_type": "markdown",
   "id": "d9c38dcb",
   "metadata": {},
   "source": [
    "## Payoff functions"
   ]
  },
  {
   "cell_type": "code",
   "execution_count": 7,
   "id": "3769a24e",
   "metadata": {},
   "outputs": [],
   "source": [
    "\n",
    "def payoff_put(K, idx=0):\n",
    "    return lambda S: np.maximum(K - S[:, idx], 0.0)\n",
    "\n",
    "def payoff_call(K, idx=0):\n",
    "    return lambda S: np.maximum(S[:, idx] - K, 0.0)\n",
    "\n",
    "def payoff_call_binary(K, idx_pay=0, idx_cond=1, H=1.0):\n",
    "    return lambda S: np.maximum(S[:, idx_pay] - K, 0.0) * (S[:, idx_cond] > H)\n"
   ]
  },
  {
   "cell_type": "markdown",
   "id": "db8a8103",
   "metadata": {},
   "source": [
    "## Przykłady wyceny"
   ]
  },
  {
   "cell_type": "code",
   "execution_count": 6,
   "id": "a8c6787f",
   "metadata": {},
   "outputs": [
    {
     "name": "stdout",
     "output_type": "stream",
     "text": [
      "American put ≈ 4.4657\n",
      "American call ≈ 3.9332\n",
      "Binary‑conditioned call ≈ 2.7952\n"
     ]
    }
   ],
   "source": [
    "\n",
    "M, N = 50, 50_000\n",
    "\n",
    "put_price = lsm_price_multi(\n",
    "    S0=[36], r=0.06, sigma=[0.20], corr=[[1]], T=1.0,\n",
    "    M=M, N=N, payoff_fn=payoff_put(K=40), seed=42)\n",
    "print(f\"American put ≈ {put_price:.4f}\")\n",
    "\n",
    "call_price = lsm_price_multi(\n",
    "    S0=[36], r=0.06, sigma=[0.20], corr=[[1]], T=1.0,\n",
    "    M=M, N=N, payoff_fn=payoff_call(K=36), seed=42)\n",
    "print(f\"American call ≈ {call_price:.4f}\")\n",
    "\n",
    "basket_price = lsm_price_multi(\n",
    "    S0=[50, 30],\n",
    "    r=0.05,\n",
    "    sigma=[0.25, 0.20],\n",
    "    corr=[[1, 0.3], [0.3, 1]],\n",
    "    T=1.0,\n",
    "    M=M, N=N,\n",
    "    payoff_fn=payoff_call_binary(K=55, idx_pay=0, idx_cond=1, H=32),\n",
    "    seed=42)\n",
    "print(f\"Binary‑conditioned call ≈ {basket_price:.4f}\")\n"
   ]
  }
 ],
 "metadata": {
  "kernelspec": {
   "display_name": ".venv",
   "language": "python",
   "name": "python3"
  },
  "language_info": {
   "codemirror_mode": {
    "name": "ipython",
    "version": 3
   },
   "file_extension": ".py",
   "mimetype": "text/x-python",
   "name": "python",
   "nbconvert_exporter": "python",
   "pygments_lexer": "ipython3",
   "version": "3.11.9"
  }
 },
 "nbformat": 4,
 "nbformat_minor": 5
}
