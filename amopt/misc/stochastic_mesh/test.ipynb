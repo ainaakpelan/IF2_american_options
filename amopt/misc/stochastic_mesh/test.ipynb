{
 "cells": [
  {
   "cell_type": "code",
   "execution_count": null,
   "id": "7f97312b",
   "metadata": {},
   "outputs": [],
   "source": [
    "from stochastic_mesh import *"
   ]
  },
  {
   "cell_type": "markdown",
   "id": "ec4ade03",
   "metadata": {},
   "source": [
    "Pricing test"
   ]
  },
  {
   "cell_type": "code",
   "execution_count": null,
   "id": "f8f267d8",
   "metadata": {},
   "outputs": [],
   "source": [
    "def ratio_opt(asset_mesh):\n",
    "    strike = 1.1\n",
    "    S_1 = asset_mesh[0, :, :]\n",
    "    S_2 = asset_mesh[1, :, :]\n",
    "    return np.maximum(0, S_2 / S_1 - strike)"
   ]
  },
  {
   "cell_type": "code",
   "execution_count": 29,
   "id": "708cc61c",
   "metadata": {},
   "outputs": [],
   "source": [
    "spot_prices = [10, 12]\n",
    "drifts = [0.05, 0.07]\n",
    "vols = [0.2, 0.25]\n",
    "dividends = [0.0, 0.0]\n",
    "rf_rate = 0.05\n",
    "maturity = 1\n",
    "n_time_pts = 4\n",
    "n_paths_mesh = 50\n",
    "maturity = 1\n",
    "path_estim_paths = 500"
   ]
  },
  {
   "cell_type": "code",
   "execution_count": 30,
   "id": "29ced5dd",
   "metadata": {},
   "outputs": [],
   "source": [
    "asset_mesh = simulate_gbm_paths(spot_prices, drifts, vols, n_time_pts, n_paths_mesh, maturity)"
   ]
  },
  {
   "cell_type": "code",
   "execution_count": 31,
   "id": "250aafd6",
   "metadata": {},
   "outputs": [
    {
     "data": {
      "text/plain": [
       "(0.15776250636501407, 0.12213249761193276)"
      ]
     },
     "execution_count": 31,
     "metadata": {},
     "output_type": "execute_result"
    }
   ],
   "source": [
    "price_option(\n",
    "    asset_mesh,\n",
    "    ratio_opt,\n",
    "    spot_prices,\n",
    "    drifts,\n",
    "    vols,\n",
    "    rf_rate,\n",
    "    dividends,\n",
    "    maturity,\n",
    "    maturity / n_time_pts,\n",
    "    path_estim_paths\n",
    ")"
   ]
  },
  {
   "cell_type": "markdown",
   "id": "43ec4b5f",
   "metadata": {},
   "source": [
    "Powinniśmy mieć złożoność $\\mathcal O(mb^2)$"
   ]
  },
  {
   "cell_type": "code",
   "execution_count": null,
   "id": "b2d34a8d",
   "metadata": {},
   "outputs": [],
   "source": [
    "import matplotlib.pyplot as plt\n",
    "import time\n",
    "\n",
    "# Define ranges for time steps and path counts\n",
    "time_pts_list = np.arange(2, 53, 5)\n",
    "path_counts = np.arange(2, 100, 5)\n",
    "\n",
    "# Initialize runtime matrix\n",
    "runtimes = np.zeros((len(time_pts_list), len(path_counts)))\n",
    "\n",
    "# Loop through combinations and time the option pricing\n",
    "for i, n_time_pts in enumerate(time_pts_list):\n",
    "    for j, n_paths_mesh in enumerate(path_counts):\n",
    "        start = time.time()\n",
    "        \n",
    "        asset_mesh = simulate_gbm_paths(\n",
    "            spot_prices, drifts, vols, n_time_pts, n_paths_mesh, maturity\n",
    "        )\n",
    "        price_option(\n",
    "            asset_mesh,\n",
    "            ratio_opt,\n",
    "            spot_prices,\n",
    "            drifts,\n",
    "            vols,\n",
    "            rf_rate,\n",
    "            dividends,\n",
    "            maturity,\n",
    "            maturity / n_time_pts,\n",
    "        )\n",
    "        \n",
    "        runtimes[i, j] = time.time() - start"
   ]
  },
  {
   "cell_type": "code",
   "execution_count": null,
   "id": "70fc2238",
   "metadata": {},
   "outputs": [],
   "source": [
    "# Plotting\n",
    "fig = plt.figure(figsize=(10, 6))\n",
    "ax = fig.add_subplot(111, projection='3d')\n",
    "T, P = np.meshgrid(path_counts, time_pts_list)\n",
    "\n",
    "ax.plot_surface(P, T, runtimes, cmap='viridis')\n",
    "ax.set_xlabel('Number of Paths')\n",
    "ax.set_ylabel('Number of Time Steps')\n",
    "ax.set_zlabel('Runtime (s)')\n",
    "ax.set_title('Option Pricing Runtime vs Time Steps and Paths')\n",
    "plt.tight_layout()\n",
    "plt.show()"
   ]
  },
  {
   "cell_type": "code",
   "execution_count": null,
   "id": "0fdf84b1",
   "metadata": {},
   "outputs": [],
   "source": [
    "plt.plot(time_pts_list, runtimes[:,2])"
   ]
  },
  {
   "cell_type": "code",
   "execution_count": null,
   "id": "2e63e24e",
   "metadata": {},
   "outputs": [],
   "source": [
    "plt.plot(path_counts, runtimes[0,:])"
   ]
  },
  {
   "cell_type": "code",
   "execution_count": null,
   "id": "f49e6731",
   "metadata": {},
   "outputs": [],
   "source": [
    "import numpy as np"
   ]
  },
  {
   "cell_type": "code",
   "execution_count": null,
   "id": "5b4473d1",
   "metadata": {},
   "outputs": [],
   "source": [
    "np.array([1,2]) * np.array([[1,1], [4,4]])"
   ]
  }
 ],
 "metadata": {
  "kernelspec": {
   "display_name": "Python 3",
   "language": "python",
   "name": "python3"
  },
  "language_info": {
   "codemirror_mode": {
    "name": "ipython",
    "version": 3
   },
   "file_extension": ".py",
   "mimetype": "text/x-python",
   "name": "python",
   "nbconvert_exporter": "python",
   "pygments_lexer": "ipython3",
   "version": "3.11.9"
  }
 },
 "nbformat": 4,
 "nbformat_minor": 5
}
