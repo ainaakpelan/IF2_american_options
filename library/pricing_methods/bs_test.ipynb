{
 "cells": [
  {
   "cell_type": "code",
   "execution_count": 1,
   "id": "d2904af8",
   "metadata": {},
   "outputs": [],
   "source": [
    "# %% Cell 1: dodaj ścieżkę do folderu wyżej, jeśli notebook jest w pricing_methods/\n",
    "import sys, os\n",
    "sys.path.insert(0, os.path.abspath('..'))\n"
   ]
  },
  {
   "cell_type": "code",
   "execution_count": 2,
   "id": "e1227fd8",
   "metadata": {},
   "outputs": [],
   "source": [
    "import numpy as np\n",
    "from bjerksund_stensland import BjerksundStensland\n",
    "from pricing_methods.data_structures import ModelParams\n",
    "from pricing_methods.bjerksund_pricer import BjerksundPricer\n"
   ]
  },
  {
   "cell_type": "code",
   "execution_count": 3,
   "id": "99c516ef",
   "metadata": {},
   "outputs": [],
   "source": [
    "spot_price = 100.0\n",
    "rf_rate = 0.05\n",
    "sigma = 0.2\n",
    "dividend_yield = 0.0\n",
    "maturity = 1.0\n",
    "K = 100.0\n",
    "\n",
    "params = ModelParams(\n",
    "    spot=np.array([spot_price]),\n",
    "    rf_rate=rf_rate,\n",
    "    sigma=np.array([sigma]),\n",
    "    corr=np.array([[1.0]]),\n",
    "    dividend_yield=np.array([dividend_yield]),\n",
    "    maturity=maturity,\n",
    "    n_steps=10,  # liczba kroków czasowych (dowolna dla metody analitycznej)\n",
    "    n_paths=10_000  # niewykorzystywane przez Bjerksunda, ale wymagane w strukturze\n",
    ")\n"
   ]
  },
  {
   "cell_type": "code",
   "execution_count": 4,
   "id": "01546503",
   "metadata": {},
   "outputs": [
    {
     "name": "stdout",
     "output_type": "stream",
     "text": [
      "Bjerksund–Stensland (stara metoda): 5.9830\n"
     ]
    }
   ],
   "source": [
    "bjerksund_old = BjerksundStensland(\n",
    "    S=spot_price,\n",
    "    K=K,\n",
    "    T=maturity,\n",
    "    r=rf_rate,\n",
    "    b=rf_rate - dividend_yield,\n",
    "    sigma=sigma,\n",
    "    option_type='put'\n",
    ")\n",
    "\n",
    "price_old = bjerksund_old.calculate_price()\n",
    "print(f\"Bjerksund–Stensland (stara metoda): {price_old:.4f}\")\n"
   ]
  },
  {
   "cell_type": "code",
   "execution_count": 5,
   "id": "67537650",
   "metadata": {},
   "outputs": [
    {
     "name": "stdout",
     "output_type": "stream",
     "text": [
      "Bjerksund–Stensland (nowa metoda): -0.2870\n"
     ]
    }
   ],
   "source": [
    "bjerksund_new = BjerksundPricer(\n",
    "    model_params=params,\n",
    "    strike=K,\n",
    "    option_type='put'\n",
    ")\n",
    "\n",
    "price_new = bjerksund_new.price()\n",
    "print(f\"Bjerksund–Stensland (nowa metoda): {price_new:.4f}\")\n"
   ]
  },
  {
   "cell_type": "code",
   "execution_count": null,
   "id": "0f26512f",
   "metadata": {},
   "outputs": [],
   "source": []
  }
 ],
 "metadata": {
  "kernelspec": {
   "display_name": "Python 3",
   "language": "python",
   "name": "python3"
  },
  "language_info": {
   "codemirror_mode": {
    "name": "ipython",
    "version": 3
   },
   "file_extension": ".py",
   "mimetype": "text/x-python",
   "name": "python",
   "nbconvert_exporter": "python",
   "pygments_lexer": "ipython3",
   "version": "3.11.9"
  }
 },
 "nbformat": 4,
 "nbformat_minor": 5
}
