{
 "cells": [
  {
   "cell_type": "code",
   "execution_count": 1,
   "id": "17c39e6e",
   "metadata": {},
   "outputs": [],
   "source": [
    "# %% Cell 1: dodaj ścieżkę do folderu wyżej, jeśli notebook jest w pricing_methods/\n",
    "import sys, os\n",
    "sys.path.insert(0, os.path.abspath('..'))\n"
   ]
  },
  {
   "cell_type": "code",
   "execution_count": 2,
   "id": "25747858",
   "metadata": {},
   "outputs": [],
   "source": [
    "import numpy as np\n",
    "import pandas as pd\n",
    "from pricing_methods.data_structures import ModelParams\n",
    "from pricing_methods.stochastic_mesh_pricer import StochasticMeshPricer\n",
    "from stochastic_mesh                        import simulate_gbm_paths, price_option"
   ]
  },
  {
   "cell_type": "code",
   "execution_count": 11,
   "id": "6b23c18c",
   "metadata": {},
   "outputs": [
    {
     "name": "stdout",
     "output_type": "stream",
     "text": [
      "Stochastic mesh (stara wersja, 1D): low = 4.0450, high = 3.0272\n"
     ]
    }
   ],
   "source": [
    "\n",
    "# Jednowymiarowe parametry\n",
    "spot_price     = [100.0]\n",
    "drift          = [0.05]\n",
    "vol            = [0.2]\n",
    "rf_rate        = 0.05\n",
    "dividend_yield = [0.0]\n",
    "maturity       = 1.0\n",
    "n_steps        = 10\n",
    "n_paths_mesh   = 10  # liczba ścieżek w siatce\n",
    "n_paths_est    = 1000   # liczba ścieżek do estymacji dolnego ograniczenia\n",
    "dt             = maturity / n_steps\n",
    "K              = 100.0\n",
    "\n",
    "# funkcja wypłaty — stara implementacja (d, b, m) → (b, m)\n",
    "def payoff_old(X: np.ndarray) -> np.ndarray:\n",
    "    # X[0] ma kształt (b, m)\n",
    "    return np.maximum(X[0] - K, 0)\n",
    "\n",
    "# funkcja wypłaty — nowa klasa (N, M+1, d) → (N, M+1)\n",
    "def payoff_new(paths: np.ndarray) -> np.ndarray:\n",
    "    return np.maximum(paths[..., 0] - K, 0)\n",
    "\n",
    "# --- stara implementacja mesh ---\n",
    "asset_price_mesh = simulate_gbm_paths(\n",
    "    spot_price,\n",
    "    drift,\n",
    "    vol,\n",
    "    n_steps,\n",
    "    n_paths_mesh,\n",
    "    maturity\n",
    ")\n",
    "low_price, high_price = price_option(\n",
    "    asset_price_mesh,\n",
    "    payoff_old,\n",
    "    spot_price,\n",
    "    drift,\n",
    "    vol,\n",
    "    rf_rate,\n",
    "    dividend_yield,\n",
    "    maturity,\n",
    "    dt,\n",
    "    n_paths=n_paths_est\n",
    ")\n",
    "print(f\"Stochastic mesh (stara wersja, 1D): low = {low_price:.4f}, high = {high_price:.4f}\")\n"
   ]
  },
  {
   "cell_type": "code",
   "execution_count": 12,
   "id": "fd85fc3f",
   "metadata": {},
   "outputs": [
    {
     "name": "stdout",
     "output_type": "stream",
     "text": [
      "low  = 7.1687\n",
      "high = 3.8417\n"
     ]
    }
   ],
   "source": [
    "\n",
    "# --- Parametry jednowymiarowe (d = 1) ---\n",
    "spot_price     = [100.0]                   # S₀\n",
    "vol            = [0.2]                     # σ\n",
    "corr_matrix    = np.array([[1.0]])         # korelacja (tu tylko 1×1)\n",
    "dividend_yield = [0.0]\n",
    "rf_rate        = 0.05\n",
    "maturity       = 1.0\n",
    "n_steps        = 10\n",
    "n_paths_est    = 1000\n",
    "K              = 100.0\n",
    "\n",
    "# --- Funkcja wypłaty ---\n",
    "payoff_fn = lambda paths: np.maximum(paths[..., 0] - K, 0)\n",
    "\n",
    "# --- ModelParams ---\n",
    "params = ModelParams(\n",
    "    spot           = np.array(spot_price),\n",
    "    rf_rate        = rf_rate,\n",
    "    sigma          = np.array(vol),\n",
    "    corr           = corr_matrix,\n",
    "    dividend_yield = np.array(dividend_yield),\n",
    "    maturity       = maturity,\n",
    "    n_steps        = n_steps,\n",
    "    n_paths        = n_paths_est\n",
    ")\n",
    "\n",
    "# --- Inicjalizacja pricer’a z n_paths_mesh=10 ---\n",
    "mesh_pricer = StochasticMeshPricer(\n",
    "    model_params   = params,\n",
    "    payoff         = payoff_fn,\n",
    "    antithetic     = False,\n",
    "    seed           = 42,\n",
    "    n_paths_mesh   = n_paths_mesh    # liczba ścieżek w siatce\n",
    ")\n",
    "\n",
    "# --- Wywołanie metody price() ---\n",
    "low_price, high_price = mesh_pricer.price()\n",
    "\n",
    "print(f\"low  = {low_price:.4f}\")\n",
    "print(f\"high = {high_price:.4f}\")\n",
    "\n",
    "\n"
   ]
  }
 ],
 "metadata": {
  "kernelspec": {
   "display_name": "Python 3",
   "language": "python",
   "name": "python3"
  },
  "language_info": {
   "codemirror_mode": {
    "name": "ipython",
    "version": 3
   },
   "file_extension": ".py",
   "mimetype": "text/x-python",
   "name": "python",
   "nbconvert_exporter": "python",
   "pygments_lexer": "ipython3",
   "version": "3.11.9"
  }
 },
 "nbformat": 4,
 "nbformat_minor": 5
}
