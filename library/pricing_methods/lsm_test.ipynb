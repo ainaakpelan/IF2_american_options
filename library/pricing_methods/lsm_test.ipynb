{
 "cells": [
  {
   "cell_type": "code",
   "execution_count": 31,
   "id": "1cfba256",
   "metadata": {},
   "outputs": [],
   "source": [
    "# %% Cell 1: dodaj ścieżkę do folderu wyżej, jeśli notebook jest w pricing_methods/\n",
    "import sys, os\n",
    "sys.path.insert(0, os.path.abspath('..'))\n"
   ]
  },
  {
   "cell_type": "code",
   "execution_count": null,
   "id": "4ef04ef2",
   "metadata": {},
   "outputs": [],
   "source": [
    "import numpy as np\n",
    "import pandas as pd\n",
    "from pricing_methods.data_structures import ModelParams\n",
    "from pricing_methods.longstaff_schwartz_pricer import LongstaffSchwartzPricer\n",
    "from polynom import lsm_price_multi, payoff_put, simulate_paths_gbm\n",
    "\n"
   ]
  },
  {
   "cell_type": "code",
   "execution_count": 23,
   "id": "68b6d1d7",
   "metadata": {},
   "outputs": [],
   "source": [
    "np.random.seed(42)"
   ]
  },
  {
   "cell_type": "code",
   "execution_count": 24,
   "id": "c40fdf4f",
   "metadata": {},
   "outputs": [],
   "source": [
    "spot_prices = np.array([100.0, 100.0])\n",
    "rf_rate = 0.05\n",
    "sigma = np.array([0.2, 0.2])\n",
    "corr_matrix = np.eye(2)\n",
    "dividend_yield = np.array([0.0, 0.0])\n",
    "maturity = 1.0\n",
    "n_steps = 10\n",
    "n_paths = 10_000\n",
    "\n",
    "params = ModelParams(\n",
    "    spot=spot_prices,\n",
    "    rf_rate=rf_rate,\n",
    "    sigma=sigma,\n",
    "    corr=corr_matrix,\n",
    "    dividend_yield=dividend_yield,\n",
    "    maturity=maturity,\n",
    "    n_steps=n_steps,\n",
    "    n_paths=n_paths\n",
    ")\n"
   ]
  },
  {
   "cell_type": "code",
   "execution_count": 25,
   "id": "16270bd8",
   "metadata": {},
   "outputs": [],
   "source": [
    "K = 100.0\n",
    "payoff = lambda paths: np.maximum(K - paths[..., 0], 0)\n"
   ]
  },
  {
   "cell_type": "code",
   "execution_count": 26,
   "id": "f7e7167a",
   "metadata": {},
   "outputs": [
    {
     "name": "stdout",
     "output_type": "stream",
     "text": [
      "Longstaff–Schwartz (LSM) price: 5.9730\n"
     ]
    }
   ],
   "source": [
    "lsm_pricer = LongstaffSchwartzPricer(\n",
    "    model_params=params,\n",
    "    payoff=payoff,\n",
    "    degree=2,\n",
    "    basis_type='monomial',\n",
    ")\n",
    "\n",
    "price_lsm = lsm_pricer.price()\n",
    "print(f\"Longstaff–Schwartz (LSM) price: {price_lsm:.4f}\")\n"
   ]
  },
  {
   "cell_type": "code",
   "execution_count": 27,
   "id": "da2b4e10",
   "metadata": {},
   "outputs": [
    {
     "name": "stdout",
     "output_type": "stream",
     "text": [
      "Longstaff–Schwartz (stara wersja): 5.9430\n"
     ]
    }
   ],
   "source": [
    "\n",
    "\n",
    "# Ustawienie parametrów (zgodne dla obu metod)\n",
    "spot_prices = [100.0, 100.0]\n",
    "rf_rate = 0.05\n",
    "sigma = [0.2, 0.2]\n",
    "corr_matrix = np.eye(2)\n",
    "dividend_yield = [0.0, 0.0]\n",
    "maturity = 1.0\n",
    "n_steps = 10\n",
    "n_paths = 10_000\n",
    "K = 100.0\n",
    "\n",
    "# Wywołanie starej wersji z pliku lsm.py\n",
    "price_lsm_old = lsm_price_multi(\n",
    "    S0=spot_prices,\n",
    "    r=rf_rate,\n",
    "    sigma=sigma,\n",
    "    corr=corr_matrix,\n",
    "    T=maturity,\n",
    "    M=n_steps,\n",
    "    N=n_paths,\n",
    "    payoff_fn=payoff_put(K),\n",
    "    seed=42\n",
    ")\n",
    "print(f\"Longstaff–Schwartz (stara wersja): {price_lsm_old:.4f}\")\n",
    "\n"
   ]
  },
  {
   "cell_type": "code",
   "execution_count": 28,
   "id": "e7cedcff",
   "metadata": {},
   "outputs": [
    {
     "name": "stdout",
     "output_type": "stream",
     "text": [
      "Longstaff–Schwartz (stara wersja, 1D): 6.0155\n",
      "Longstaff–Schwartz (nowa wersja, 1D): 5.9400\n"
     ]
    }
   ],
   "source": [
    "# %% Cell: porównanie starej i nowej wersji LSM (1D)\n",
    "import numpy as np\n",
    "from polynom import lsm_price_multi, payoff_put\n",
    "from pricing_methods.data_structures import ModelParams\n",
    "from pricing_methods.longstaff_schwartz_pricer import LongstaffSchwartzPricer\n",
    "\n",
    "# Jednowymiarowe parametry\n",
    "spot_price = [100.0]\n",
    "rf_rate = 0.05\n",
    "sigma = [0.2]\n",
    "corr_matrix = np.array([[1.0]])  # jedno aktywo, brak korelacji\n",
    "dividend_yield = [0.0]\n",
    "maturity = 1.0\n",
    "n_steps = 10\n",
    "n_paths = 10_000\n",
    "K = 100.0\n",
    "\n",
    "# Wywołanie starej wersji z lsm.py\n",
    "price_lsm_old = lsm_price_multi(\n",
    "    S0=spot_price,\n",
    "    r=rf_rate,\n",
    "    sigma=sigma,\n",
    "    corr=corr_matrix,\n",
    "    T=maturity,\n",
    "    M=n_steps,\n",
    "    N=n_paths,\n",
    "    payoff_fn=payoff_put(K),\n",
    "    seed=42\n",
    ")\n",
    "print(f\"Longstaff–Schwartz (stara wersja, 1D): {price_lsm_old:.4f}\")\n",
    "\n",
    "# Nowa wersja Longstaff–Schwartz z pricing_methods\n",
    "params = ModelParams(\n",
    "    spot=np.array(spot_price),\n",
    "    rf_rate=rf_rate,\n",
    "    sigma=np.array(sigma),\n",
    "    corr=corr_matrix,\n",
    "    dividend_yield=np.array(dividend_yield),\n",
    "    maturity=maturity,\n",
    "    n_steps=n_steps,\n",
    "    n_paths=n_paths\n",
    ")\n",
    "\n",
    "payoff = lambda paths: np.maximum(K - paths[..., 0], 0)\n",
    "\n",
    "lsm_pricer_new = LongstaffSchwartzPricer(\n",
    "    model_params=params,\n",
    "    payoff=payoff,\n",
    "    degree=3,\n",
    "    basis_type='monomial',\n",
    ")\n",
    "\n",
    "price_lsm_new = lsm_pricer_new.price()\n",
    "print(f\"Longstaff–Schwartz (nowa wersja, 1D): {price_lsm_new:.4f}\")\n"
   ]
  }
 ],
 "metadata": {
  "kernelspec": {
   "display_name": "Python 3",
   "language": "python",
   "name": "python3"
  },
  "language_info": {
   "codemirror_mode": {
    "name": "ipython",
    "version": 3
   },
   "file_extension": ".py",
   "mimetype": "text/x-python",
   "name": "python",
   "nbconvert_exporter": "python",
   "pygments_lexer": "ipython3",
   "version": "3.11.9"
  }
 },
 "nbformat": 4,
 "nbformat_minor": 5
}
