{
 "cells": [
  {
   "cell_type": "code",
   "execution_count": 1,
   "id": "809c7ece",
   "metadata": {},
   "outputs": [],
   "source": [
    "import numpy as np\n",
    "from amopt.pricing.pricing import AmericanOptionPricer\n",
    "from amopt.models.longstaff_schwartz import payoff_call"
   ]
  },
  {
   "cell_type": "code",
   "execution_count": 2,
   "id": "72e28402",
   "metadata": {},
   "outputs": [],
   "source": [
    "pricer = AmericanOptionPricer([10], 10, 0.05, [0.1], 1, [0,0.25,0.5,0.75,1], 50, [[1]], [0.02])"
   ]
  },
  {
   "cell_type": "code",
   "execution_count": 3,
   "id": "91d26c8f",
   "metadata": {},
   "outputs": [],
   "source": [
    "def call_at_8_payoff(S):\n",
    "    return np.maximum(S-8, 0)"
   ]
  },
  {
   "cell_type": "code",
   "execution_count": 4,
   "id": "67ffc8b1",
   "metadata": {},
   "outputs": [],
   "source": [
    "pricer.set_payoff_function(payoff_call(8))"
   ]
  },
  {
   "cell_type": "code",
   "execution_count": 5,
   "id": "6bbdb311",
   "metadata": {},
   "outputs": [
    {
     "data": {
      "text/plain": [
       "np.float64(0.5471348577911428)"
      ]
     },
     "execution_count": 5,
     "metadata": {},
     "output_type": "execute_result"
    }
   ],
   "source": [
    "pricer.bjerksund_stensland()"
   ]
  },
  {
   "cell_type": "code",
   "execution_count": 6,
   "id": "2b8de1ff",
   "metadata": {},
   "outputs": [
    {
     "name": "stdout",
     "output_type": "stream",
     "text": [
      "50 1\n",
      "50 1\n",
      "50 1\n",
      "50 1\n"
     ]
    },
    {
     "data": {
      "text/plain": [
       "np.float64(2.5225441151750765)"
      ]
     },
     "execution_count": 6,
     "metadata": {},
     "output_type": "execute_result"
    }
   ],
   "source": [
    "pricer.longstaff_schwartz()"
   ]
  },
  {
   "cell_type": "code",
   "execution_count": 7,
   "id": "786ee821",
   "metadata": {},
   "outputs": [
    {
     "data": {
      "text/plain": [
       "(50, 6, 1)"
      ]
     },
     "execution_count": 7,
     "metadata": {},
     "output_type": "execute_result"
    }
   ],
   "source": [
    "pricer.asset_paths.shape"
   ]
  },
  {
   "cell_type": "code",
   "execution_count": 8,
   "id": "8944206b",
   "metadata": {},
   "outputs": [
    {
     "data": {
      "text/plain": [
       "(np.float64(2.152323272381976), np.float64(2.0822727998921167))"
      ]
     },
     "execution_count": 8,
     "metadata": {},
     "output_type": "execute_result"
    }
   ],
   "source": [
    "pricer.set_payoff_function(call_at_8_payoff)\n",
    "pricer.stochastic_mesh(10)"
   ]
  },
  {
   "cell_type": "code",
   "execution_count": 9,
   "id": "6350012a",
   "metadata": {},
   "outputs": [
    {
     "data": {
      "text/plain": [
       "{'smm_mesh_price': np.float64(2.152323272381976),\n",
       " 'smm_path_price': np.float64(2.0822727998921167),\n",
       " 'lsm_price': np.float64(2.5225441151750765),\n",
       " 'bjs_price': array([0.54713486]),\n",
       " 'smm_time': 1.1337602138519287,\n",
       " 'lsm_time': 0.001990079879760742,\n",
       " 'bjs_time': 0.0}"
      ]
     },
     "execution_count": 9,
     "metadata": {},
     "output_type": "execute_result"
    }
   ],
   "source": [
    "pricer.full_data()"
   ]
  }
 ],
 "metadata": {
  "kernelspec": {
   "display_name": "Python 3",
   "language": "python",
   "name": "python3"
  },
  "language_info": {
   "codemirror_mode": {
    "name": "ipython",
    "version": 3
   },
   "file_extension": ".py",
   "mimetype": "text/x-python",
   "name": "python",
   "nbconvert_exporter": "python",
   "pygments_lexer": "ipython3",
   "version": "3.12.10"
  }
 },
 "nbformat": 4,
 "nbformat_minor": 5
}
