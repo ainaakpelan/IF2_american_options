{
 "cells": [
  {
   "cell_type": "code",
   "execution_count": 1,
   "id": "809c7ece",
   "metadata": {},
   "outputs": [],
   "source": [
    "import numpy as np\n",
    "from amopt.pricing.pricing import AmericanOptionPricer"
   ]
  },
  {
   "cell_type": "code",
   "execution_count": 2,
   "id": "72e28402",
   "metadata": {},
   "outputs": [],
   "source": [
    "pricer = AmericanOptionPricer([10], 10, 0.05, [0.1], 1, [0,0.5,1], 100, [[1]], 0.02)"
   ]
  },
  {
   "cell_type": "code",
   "execution_count": 3,
   "id": "91d26c8f",
   "metadata": {},
   "outputs": [],
   "source": [
    "def call_at_10_payoff(S):\n",
    "    return np.maximum(S-10, 0)"
   ]
  },
  {
   "cell_type": "code",
   "execution_count": 4,
   "id": "67ffc8b1",
   "metadata": {},
   "outputs": [],
   "source": [
    "pricer.set_payoff_function(call_at_10_payoff)"
   ]
  },
  {
   "cell_type": "code",
   "execution_count": 5,
   "id": "6bbdb311",
   "metadata": {},
   "outputs": [
    {
     "data": {
      "text/plain": [
       "array([0.54713486])"
      ]
     },
     "execution_count": 5,
     "metadata": {},
     "output_type": "execute_result"
    }
   ],
   "source": [
    "pricer.bjerksund_stensland()"
   ]
  },
  {
   "cell_type": "code",
   "execution_count": 6,
   "id": "8944206b",
   "metadata": {},
   "outputs": [
    {
     "ename": "TypeError",
     "evalue": "price_option() got an unexpected keyword argument 'num_paths'",
     "output_type": "error",
     "traceback": [
      "\u001b[31m---------------------------------------------------------------------------\u001b[39m",
      "\u001b[31mTypeError\u001b[39m                                 Traceback (most recent call last)",
      "\u001b[36mCell\u001b[39m\u001b[36m \u001b[39m\u001b[32mIn[6]\u001b[39m\u001b[32m, line 1\u001b[39m\n\u001b[32m----> \u001b[39m\u001b[32m1\u001b[39m \u001b[43mpricer\u001b[49m\u001b[43m.\u001b[49m\u001b[43mstochastic_mesh\u001b[49m\u001b[43m(\u001b[49m\u001b[32;43m10\u001b[39;49m\u001b[43m)\u001b[49m\n",
      "\u001b[36mFile \u001b[39m\u001b[32md:\\Users\\filip\\Studia\\Sem10\\IF2\\Projekt_2\\IF2_american_options\\amopt\\pricing\\pricing.py:138\u001b[39m, in \u001b[36mAmericanOptionPricer.stochastic_mesh\u001b[39m\u001b[34m(self, num_paths)\u001b[39m\n\u001b[32m    124\u001b[39m \u001b[38;5;28;01mdef\u001b[39;00m\u001b[38;5;250m \u001b[39m\u001b[34mstochastic_mesh\u001b[39m(\u001b[38;5;28mself\u001b[39m, num_paths=\u001b[32m10000\u001b[39m):\n\u001b[32m    125\u001b[39m \u001b[38;5;250m    \u001b[39m\u001b[33;03m\"\"\"\u001b[39;00m\n\u001b[32m    126\u001b[39m \u001b[33;03m    Price an American option using the stochastic mesh method.\u001b[39;00m\n\u001b[32m    127\u001b[39m \n\u001b[32m   (...)\u001b[39m\u001b[32m    136\u001b[39m \u001b[33;03m        The price of the American option.\u001b[39;00m\n\u001b[32m    137\u001b[39m \u001b[33;03m    \"\"\"\u001b[39;00m\n\u001b[32m--> \u001b[39m\u001b[32m138\u001b[39m     \u001b[38;5;28;01mreturn\u001b[39;00m \u001b[43mprice_option\u001b[49m\u001b[43m(\u001b[49m\n\u001b[32m    139\u001b[39m \u001b[43m        \u001b[49m\u001b[38;5;28;43mself\u001b[39;49m\u001b[43m.\u001b[49m\u001b[43masset_paths\u001b[49m\u001b[43m,\u001b[49m\n\u001b[32m    140\u001b[39m \u001b[43m        \u001b[49m\u001b[38;5;28;43mself\u001b[39;49m\u001b[43m.\u001b[49m\u001b[43mpayoff_func\u001b[49m\u001b[43m,\u001b[49m\n\u001b[32m    141\u001b[39m \u001b[43m        \u001b[49m\u001b[38;5;28;43mself\u001b[39;49m\u001b[43m.\u001b[49m\u001b[43mspot_price\u001b[49m\u001b[43m,\u001b[49m\n\u001b[32m    142\u001b[39m \u001b[43m        \u001b[49m\u001b[38;5;28;43mself\u001b[39;49m\u001b[43m.\u001b[49m\u001b[43mrisk_free_rate\u001b[49m\u001b[43m \u001b[49m\u001b[43m-\u001b[49m\u001b[43m \u001b[49m\u001b[38;5;28;43mself\u001b[39;49m\u001b[43m.\u001b[49m\u001b[43mdividend_yield\u001b[49m\u001b[43m,\u001b[49m\n\u001b[32m    143\u001b[39m \u001b[43m        \u001b[49m\u001b[38;5;28;43mself\u001b[39;49m\u001b[43m.\u001b[49m\u001b[43mvolatility\u001b[49m\u001b[43m,\u001b[49m\n\u001b[32m    144\u001b[39m \u001b[43m        \u001b[49m\u001b[38;5;28;43mself\u001b[39;49m\u001b[43m.\u001b[49m\u001b[43mrisk_free_rate\u001b[49m\u001b[43m,\u001b[49m\n\u001b[32m    145\u001b[39m \u001b[43m        \u001b[49m\u001b[38;5;28;43mself\u001b[39;49m\u001b[43m.\u001b[49m\u001b[43mdividend_yield\u001b[49m\u001b[43m,\u001b[49m\n\u001b[32m    146\u001b[39m \u001b[43m        \u001b[49m\u001b[38;5;28;43mself\u001b[39;49m\u001b[43m.\u001b[49m\u001b[43mtime_to_maturity\u001b[49m\u001b[43m,\u001b[49m\n\u001b[32m    147\u001b[39m \u001b[43m        \u001b[49m\u001b[38;5;28;43mself\u001b[39;49m\u001b[43m.\u001b[49m\u001b[43mtime_to_maturity\u001b[49m\u001b[43m \u001b[49m\u001b[43m/\u001b[49m\u001b[43m \u001b[49m\u001b[38;5;28;43mlen\u001b[39;49m\u001b[43m(\u001b[49m\u001b[38;5;28;43mself\u001b[39;49m\u001b[43m.\u001b[49m\u001b[43mexecution_times\u001b[49m\u001b[43m)\u001b[49m\u001b[43m,\u001b[49m\n\u001b[32m    148\u001b[39m \u001b[43m        \u001b[49m\u001b[43mnum_paths\u001b[49m\u001b[43m=\u001b[49m\u001b[43mnum_paths\u001b[49m\u001b[43m,\u001b[49m\n\u001b[32m    149\u001b[39m \u001b[43m    \u001b[49m\u001b[43m)\u001b[49m\n",
      "\u001b[31mTypeError\u001b[39m: price_option() got an unexpected keyword argument 'num_paths'"
     ]
    }
   ],
   "source": [
    "pricer.stochastic_mesh(10)"
   ]
  },
  {
   "cell_type": "code",
   "execution_count": 7,
   "id": "2b8de1ff",
   "metadata": {},
   "outputs": [
    {
     "ename": "ValueError",
     "evalue": "not enough values to unpack (expected 2, got 1)",
     "output_type": "error",
     "traceback": [
      "\u001b[31m---------------------------------------------------------------------------\u001b[39m",
      "\u001b[31mValueError\u001b[39m                                Traceback (most recent call last)",
      "\u001b[36mCell\u001b[39m\u001b[36m \u001b[39m\u001b[32mIn[7]\u001b[39m\u001b[32m, line 1\u001b[39m\n\u001b[32m----> \u001b[39m\u001b[32m1\u001b[39m \u001b[43mpricer\u001b[49m\u001b[43m.\u001b[49m\u001b[43mlongstaff_schwartz\u001b[49m\u001b[43m(\u001b[49m\u001b[43m)\u001b[49m\n",
      "\u001b[36mFile \u001b[39m\u001b[32md:\\Users\\filip\\Studia\\Sem10\\IF2\\Projekt_2\\IF2_american_options\\amopt\\pricing\\pricing.py:167\u001b[39m, in \u001b[36mAmericanOptionPricer.longstaff_schwartz\u001b[39m\u001b[34m(self, basis_fn, num_paths)\u001b[39m\n\u001b[32m    151\u001b[39m \u001b[38;5;28;01mdef\u001b[39;00m\u001b[38;5;250m \u001b[39m\u001b[34mlongstaff_schwartz\u001b[39m(\u001b[38;5;28mself\u001b[39m, basis_fn=\u001b[38;5;28;01mNone\u001b[39;00m, num_paths=\u001b[32m10000\u001b[39m):\n\u001b[32m    152\u001b[39m \u001b[38;5;250m    \u001b[39m\u001b[33;03m\"\"\"\u001b[39;00m\n\u001b[32m    153\u001b[39m \u001b[33;03m    Price an American option using the Longstaff-Schwartz method.\u001b[39;00m\n\u001b[32m    154\u001b[39m \n\u001b[32m   (...)\u001b[39m\u001b[32m    165\u001b[39m \u001b[33;03m        The price of the American option.\u001b[39;00m\n\u001b[32m    166\u001b[39m \u001b[33;03m    \"\"\"\u001b[39;00m\n\u001b[32m--> \u001b[39m\u001b[32m167\u001b[39m     \u001b[38;5;28;01mreturn\u001b[39;00m \u001b[43mlsm_price_multi\u001b[49m\u001b[43m(\u001b[49m\n\u001b[32m    168\u001b[39m \u001b[43m        \u001b[49m\u001b[38;5;28;43mself\u001b[39;49m\u001b[43m.\u001b[49m\u001b[43mspot_price\u001b[49m\u001b[43m,\u001b[49m\n\u001b[32m    169\u001b[39m \u001b[43m        \u001b[49m\u001b[38;5;28;43mself\u001b[39;49m\u001b[43m.\u001b[49m\u001b[43mrisk_free_rate\u001b[49m\u001b[43m \u001b[49m\u001b[43m-\u001b[49m\u001b[43m \u001b[49m\u001b[38;5;28;43mself\u001b[39;49m\u001b[43m.\u001b[49m\u001b[43mdividend_yield\u001b[49m\u001b[43m,\u001b[49m\n\u001b[32m    170\u001b[39m \u001b[43m        \u001b[49m\u001b[38;5;28;43mself\u001b[39;49m\u001b[43m.\u001b[49m\u001b[43mvolatility\u001b[49m\u001b[43m,\u001b[49m\n\u001b[32m    171\u001b[39m \u001b[43m        \u001b[49m\u001b[38;5;28;43mself\u001b[39;49m\u001b[43m.\u001b[49m\u001b[43mcorr\u001b[49m\u001b[43m,\u001b[49m\n\u001b[32m    172\u001b[39m \u001b[43m        \u001b[49m\u001b[38;5;28;43mself\u001b[39;49m\u001b[43m.\u001b[49m\u001b[43mtime_to_maturity\u001b[49m\u001b[43m,\u001b[49m\n\u001b[32m    173\u001b[39m \u001b[43m        \u001b[49m\u001b[38;5;28;43mlen\u001b[39;49m\u001b[43m(\u001b[49m\u001b[38;5;28;43mself\u001b[39;49m\u001b[43m.\u001b[49m\u001b[43mexecution_times\u001b[49m\u001b[43m)\u001b[49m\u001b[43m,\u001b[49m\n\u001b[32m    174\u001b[39m \u001b[43m        \u001b[49m\u001b[43mnum_paths\u001b[49m\u001b[43m,\u001b[49m\n\u001b[32m    175\u001b[39m \u001b[43m        \u001b[49m\u001b[38;5;28;43mself\u001b[39;49m\u001b[43m.\u001b[49m\u001b[43mpayoff_func\u001b[49m\u001b[43m,\u001b[49m\n\u001b[32m    176\u001b[39m \u001b[43m        \u001b[49m\u001b[43mbasis_fn\u001b[49m\u001b[43m,\u001b[49m\n\u001b[32m    177\u001b[39m \u001b[43m        \u001b[49m\u001b[38;5;28;43mself\u001b[39;49m\u001b[43m.\u001b[49m\u001b[43mseed\u001b[49m\u001b[43m,\u001b[49m\n\u001b[32m    178\u001b[39m \u001b[43m        \u001b[49m\u001b[38;5;28;43;01mTrue\u001b[39;49;00m\u001b[43m,\u001b[49m\n\u001b[32m    179\u001b[39m \u001b[43m    \u001b[49m\u001b[43m)\u001b[49m\n",
      "\u001b[36mFile \u001b[39m\u001b[32md:\\Users\\filip\\Studia\\Sem10\\IF2\\Projekt_2\\IF2_american_options\\amopt\\models\\longstaff_schwartz.py:454\u001b[39m, in \u001b[36mlsm_price_multi\u001b[39m\u001b[34m(S0, r, sigma, corr, T, M, N, payoff_fn, basis_fn, seed, antithetic)\u001b[39m\n\u001b[32m    451\u001b[39m S_itm = S_t[itm]  \u001b[38;5;66;03m# only in‐the‐money paths\u001b[39;00m\n\u001b[32m    453\u001b[39m \u001b[38;5;66;03m# build regression matrix via provided basis function\u001b[39;00m\n\u001b[32m--> \u001b[39m\u001b[32m454\u001b[39m X = \u001b[43mbasis_fn\u001b[49m\u001b[43m(\u001b[49m\u001b[43mS_itm\u001b[49m\u001b[43m)\u001b[49m  \u001b[38;5;66;03m# shape (n_itm, n_basis)\u001b[39;00m\n\u001b[32m    456\u001b[39m Y = cashflows[itm] * disc  \u001b[38;5;66;03m# discounted continuation\u001b[39;00m\n\u001b[32m    457\u001b[39m coeff, *_ = np.linalg.lstsq(X, Y, rcond=\u001b[38;5;28;01mNone\u001b[39;00m)\n",
      "\u001b[36mFile \u001b[39m\u001b[32md:\\Users\\filip\\Studia\\Sem10\\IF2\\Projekt_2\\IF2_american_options\\amopt\\models\\longstaff_schwartz.py:432\u001b[39m, in \u001b[36mlsm_price_multi.<locals>.<lambda>\u001b[39m\u001b[34m(S_itm)\u001b[39m\n\u001b[32m    430\u001b[39m \u001b[38;5;66;03m# Default regression basis = monomial of degree=2 if none provided\u001b[39;00m\n\u001b[32m    431\u001b[39m \u001b[38;5;28;01mif\u001b[39;00m basis_fn \u001b[38;5;129;01mis\u001b[39;00m \u001b[38;5;28;01mNone\u001b[39;00m:\n\u001b[32m--> \u001b[39m\u001b[32m432\u001b[39m     basis_fn = \u001b[38;5;28;01mlambda\u001b[39;00m S_itm: \u001b[43m_build_basis\u001b[49m\u001b[43m(\u001b[49m\u001b[43mS_itm\u001b[49m\u001b[43m,\u001b[49m\u001b[43m \u001b[49m\u001b[43mdegree\u001b[49m\u001b[43m=\u001b[49m\u001b[32;43m2\u001b[39;49m\u001b[43m)\u001b[49m\n\u001b[32m    434\u001b[39m \u001b[38;5;66;03m# 1) simulate paths, possibly with antithetic variates\u001b[39;00m\n\u001b[32m    435\u001b[39m paths = simulate_paths_gbm(\n\u001b[32m    436\u001b[39m     S0, r, sigma, corr, T, M, N, seed=seed, antithetic=antithetic\n\u001b[32m    437\u001b[39m )\n",
      "\u001b[36mFile \u001b[39m\u001b[32md:\\Users\\filip\\Studia\\Sem10\\IF2\\Projekt_2\\IF2_american_options\\amopt\\models\\longstaff_schwartz.py:105\u001b[39m, in \u001b[36m_build_basis\u001b[39m\u001b[34m(S, degree)\u001b[39m\n\u001b[32m     80\u001b[39m \u001b[38;5;28;01mdef\u001b[39;00m\u001b[38;5;250m \u001b[39m\u001b[34m_build_basis\u001b[39m(S: np.ndarray, degree: \u001b[38;5;28mint\u001b[39m = \u001b[32m2\u001b[39m) -> np.ndarray:\n\u001b[32m     81\u001b[39m \u001b[38;5;250m    \u001b[39m\u001b[33;03m\"\"\"\u001b[39;00m\n\u001b[32m     82\u001b[39m \u001b[33;03m    Construct a polynomial basis of total degree ≤ `degree` for regression,\u001b[39;00m\n\u001b[32m     83\u001b[39m \u001b[33;03m    without cross‐terms between different assets. That is, for each asset j\u001b[39;00m\n\u001b[32m   (...)\u001b[39m\u001b[32m    103\u001b[39m \u001b[33;03m        Total number of columns = 1 + d * degree.\u001b[39;00m\n\u001b[32m    104\u001b[39m \u001b[33;03m    \"\"\"\u001b[39;00m\n\u001b[32m--> \u001b[39m\u001b[32m105\u001b[39m     n, d = S.shape\n\u001b[32m    106\u001b[39m     cols = [np.ones(n)]  \u001b[38;5;66;03m# constant column\u001b[39;00m\n\u001b[32m    107\u001b[39m     \u001b[38;5;66;03m# For each asset j, include all powers j^k for k=1..degree\u001b[39;00m\n",
      "\u001b[31mValueError\u001b[39m: not enough values to unpack (expected 2, got 1)"
     ]
    }
   ],
   "source": [
    "pricer.longstaff_schwartz()"
   ]
  }
 ],
 "metadata": {
  "kernelspec": {
   "display_name": "Python 3",
   "language": "python",
   "name": "python3"
  },
  "language_info": {
   "codemirror_mode": {
    "name": "ipython",
    "version": 3
   },
   "file_extension": ".py",
   "mimetype": "text/x-python",
   "name": "python",
   "nbconvert_exporter": "python",
   "pygments_lexer": "ipython3",
   "version": "3.12.10"
  }
 },
 "nbformat": 4,
 "nbformat_minor": 5
}
